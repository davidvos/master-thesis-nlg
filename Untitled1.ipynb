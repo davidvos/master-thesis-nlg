{
 "cells": [
  {
   "cell_type": "code",
   "execution_count": 4,
   "id": "b2b18d00",
   "metadata": {},
   "outputs": [
    {
     "name": "stdout",
     "output_type": "stream",
     "text": [
      "[Errno 2] No such file or directory: 'multilingual-prefix-tuning'\n",
      "/home/ec2-user/SageMaker/master-thesis-nlg/multilingual-prefix-tuning\n"
     ]
    }
   ],
   "source": [
    "cd multilingual-prefix-tuning"
   ]
  },
  {
   "cell_type": "code",
   "execution_count": 3,
   "id": "ade1d404",
   "metadata": {},
   "outputs": [
    {
     "name": "stdout",
     "output_type": "stream",
     "text": [
      "Downloading: 100%|█████████████████████████| 1.12G/1.12G [00:23<00:00, 51.9MB/s]\n",
      "Loading a TensorFlow model in PyTorch, requires both PyTorch and TensorFlow to be installed. Please see https://pytorch.org/ and https://www.tensorflow.org/install/ for installation instructions.\n",
      "Loading a TensorFlow model in PyTorch, requires both PyTorch and TensorFlow to be installed. Please see https://pytorch.org/ and https://www.tensorflow.org/install/ for installation instructions.\n",
      "Traceback (most recent call last):\n",
      "  File \"main.py\", line 76, in <module>\n",
      "    main()\n",
      "  File \"main.py\", line 28, in main\n",
      "    pretrained = MT5ForConditionalGeneration.from_pretrained(\"google/mt5-small\", from_tf=True)\n",
      "  File \"/home/ec2-user/anaconda3/envs/pytorch_p36/lib/python3.6/site-packages/transformers/modeling_utils.py\", line 1509, in from_pretrained\n",
      "    model = load_tf2_checkpoint_in_pytorch_model(model, resolved_archive_file, allow_missing_keys=True)\n",
      "  File \"/home/ec2-user/anaconda3/envs/pytorch_p36/lib/python3.6/site-packages/transformers/modeling_tf_pytorch_utils.py\", line 294, in load_tf2_checkpoint_in_pytorch_model\n",
      "    import tensorflow as tf  # noqa: F401\n",
      "ModuleNotFoundError: No module named 'tensorflow'\n"
     ]
    }
   ],
   "source": [
    "!python main.py"
   ]
  },
  {
   "cell_type": "code",
   "execution_count": null,
   "id": "b872732c",
   "metadata": {},
   "outputs": [],
   "source": []
  }
 ],
 "metadata": {
  "kernelspec": {
   "display_name": "conda_pytorch_p36",
   "language": "python",
   "name": "conda_pytorch_p36"
  },
  "language_info": {
   "codemirror_mode": {
    "name": "ipython",
    "version": 3
   },
   "file_extension": ".py",
   "mimetype": "text/x-python",
   "name": "python",
   "nbconvert_exporter": "python",
   "pygments_lexer": "ipython3",
   "version": "3.6.13"
  }
 },
 "nbformat": 4,
 "nbformat_minor": 5
}
